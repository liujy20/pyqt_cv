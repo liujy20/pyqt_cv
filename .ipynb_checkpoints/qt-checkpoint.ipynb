{
 "cells": [
  {
   "cell_type": "code",
   "execution_count": 1,
   "id": "baf3092e",
   "metadata": {},
   "outputs": [
    {
     "data": {
      "text/plain": [
       "0"
      ]
     },
     "execution_count": 1,
     "metadata": {},
     "output_type": "execute_result"
    }
   ],
   "source": [
    "from PyQt5.QtWidgets import QApplication, QMainWindow, QPushButton,  QPlainTextEdit,QMessageBox\n",
    "\n",
    "def handleCalc():\n",
    "    QMessageBox.about(window,'统计结果',f'''薪资20000 以上的有：''')\n",
    "\n",
    "\n",
    "app = QApplication([])\n",
    "\n",
    "window = QMainWindow()\n",
    "window.resize(500, 400)\n",
    "window.move(300, 310)\n",
    "window.setWindowTitle('薪资统计')\n",
    "\n",
    "textEdit = QPlainTextEdit(window)\n",
    "textEdit.setPlaceholderText(\"请输入薪资表\")\n",
    "textEdit.move(10,25)\n",
    "textEdit.resize(300,350)\n",
    "\n",
    "button = QPushButton('统计', window)\n",
    "button.move(380,80)\n",
    "button.clicked.connect(handleCalc)\n",
    "\n",
    "window.show()\n",
    "\n",
    "app.exec_()"
   ]
  },
  {
   "cell_type": "code",
   "execution_count": null,
   "id": "a3ae2bf3",
   "metadata": {},
   "outputs": [],
   "source": []
  },
  {
   "cell_type": "code",
   "execution_count": 8,
   "id": "d2f88783",
   "metadata": {},
   "outputs": [
    {
     "name": "stdout",
     "output_type": "stream",
     "text": [
      "false\n",
      "123323\n"
     ]
    }
   ],
   "source": [
    "a = 10\n",
    "b = 20\n",
    "list = [1,2,3]\n",
    "if (a in list):\n",
    "    pritn(\"true\")\n",
    "else:\n",
    "    print(\"false\")\n",
    "    \n"
   ]
  },
  {
   "cell_type": "code",
   "execution_count": 18,
   "id": "e3fc954c",
   "metadata": {},
   "outputs": [],
   "source": [
    "f = open(\"qtFile.txt\",\"w\")\n",
    "print(\"1345\",file=f)\n",
    "print(\"1231\",file=f)\n",
    "f.close()"
   ]
  },
  {
   "cell_type": "code",
   "execution_count": 1,
   "id": "edf03828",
   "metadata": {},
   "outputs": [
    {
     "name": "stdout",
     "output_type": "stream",
     "text": [
      "q\n",
      "w\n",
      "q\n",
      "w\n"
     ]
    }
   ],
   "source": [
    "def p(str1,str2):\n",
    "    print(str1)\n",
    "    print(str2)\n",
    "p(\"q\",\"w\")\n",
    "p(str2=\"w\",str1=\"q\")"
   ]
  },
  {
   "cell_type": "code",
   "execution_count": 4,
   "id": "69d5f77c",
   "metadata": {},
   "outputs": [
    {
     "name": "stdout",
     "output_type": "stream",
     "text": [
      "C中文网 网址为： http://c.biancheng.net\n"
     ]
    }
   ],
   "source": [
    "class CLanguage :\n",
    "    # 下面定义了2个类变量\n",
    "    name = \"C中文网\"\n",
    "    add = \"http://c.biancheng.net\"\n",
    "    def __init__(self):\n",
    "        print(self.name,\"网址为：\",self.add)\n",
    "    # 下面定义了一个say实例方法\n",
    "    def say(self, content):\n",
    "        print(content)\n",
    "# 将该CLanguage对象赋给clanguage变量\n",
    "clanguage = CLanguage()"
   ]
  },
  {
   "cell_type": "code",
   "execution_count": 5,
   "id": "c30f2603",
   "metadata": {},
   "outputs": [
    {
     "name": "stdout",
     "output_type": "stream",
     "text": [
      "1345\n",
      "1231\n",
      "\n"
     ]
    }
   ],
   "source": [
    "f = open(\"qtFile.txt\",\"r\")\n",
    "print(f.read())"
   ]
  }
 ],
 "metadata": {
  "kernelspec": {
   "display_name": "Python 3 (ipykernel)",
   "language": "python",
   "name": "python3"
  },
  "language_info": {
   "codemirror_mode": {
    "name": "ipython",
    "version": 3
   },
   "file_extension": ".py",
   "mimetype": "text/x-python",
   "name": "python",
   "nbconvert_exporter": "python",
   "pygments_lexer": "ipython3",
   "version": "3.8.12"
  }
 },
 "nbformat": 4,
 "nbformat_minor": 5
}
